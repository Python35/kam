{
 "cells": [
  {
   "cell_type": "code",
   "execution_count": 1,
   "metadata": {},
   "outputs": [
    {
     "name": "stderr",
     "output_type": "stream",
     "text": [
      "Using TensorFlow backend.\n"
     ]
    }
   ],
   "source": [
    "from netCDF4 import Dataset\n",
    "import tensorflow as tf\n",
    "from tensorflow import keras\n",
    "from keras.models import Sequential\n",
    "from keras.layers import Activation,Conv2D,Conv1D,Dense\n",
    "from keras import optimizers\n",
    "import matplotlib.pyplot as plt\n",
    "import numpy as np"
   ]
  },
  {
   "cell_type": "code",
   "execution_count": null,
   "metadata": {},
   "outputs": [],
   "source": [
    "path = (\"data/\")\n",
    "windSpeed = Dataset(path + \"FF_199501_CF.nc\",\"r\", format= \"NETCDF4\")\n",
    "speed = windSpeed.variables['FF'][:]\n",
    "speedTrainX = speed[0]\n",
    "#Splate 400 Zeile71 bis Spalte 400 Zeile 700\n",
    "speedTrainXOnlyColumn = speedTrainX[:,400]\n",
    "i = 0\n",
    "originalOneColumn = []\n",
    "for i in speedTrainXOnlyColumn:\n",
    "    if i != \"--\":\n",
    "        originalOneColumn.append([i])\n",
    "fullOriginal = []\n",
    "for i in speedTrainX:\n",
    "    column = []\n",
    "    for j in i:\n",
    "        if j != \"--\":\n",
    "            column.append(j)\n",
    "        else:\n",
    "            column.append(0)\n",
    "    fullOriginal.append(column)\n",
    "originalOneColumn = np.array(originalOneColumn)\n",
    "originalOneColumn = np.swapaxes(originalOneColumn,0,1)\n",
    "fullOriginal = np.array(fullOriginal)\n",
    "speedTrainY = speed[1]\n",
    "model = Sequential()\n",
    "model.add(Dense(720,kernel_initializer='normal',input_shape=(720,),activation = 'relu'))\n",
    "model.add(Dense(720, kernel_initializer='normal',activation='relu'))\n",
    "model.add(Dense(720, kernel_initializer='normal',activation='relu'))\n",
    "model.add(Dense(720, kernel_initializer='normal',activation='relu'))\n",
    "model.add(Dense(720, kernel_initializer='normal',activation='linear'))\n",
    "#Adam = optimizers.Adam(learning_rate=lr)\n",
    "model.compile(loss='mean_absolute_error', optimizer='adam', metrics=['mean_absolute_error'])\n",
    "model.summary()\n",
    "model.fit(fullOriginal, fullOriginal,\n",
    "             epochs=1000,\n",
    "             batch_size=32)\n",
    "predicted = model.predict(fullOriginal)\n",
    "plt.figure(figsize=(20,20))\n",
    "plt.imshow(predicted)\n",
    "plt.savefig(\"out/predicted\")\n",
    "plt.figure(figsize=(20,20))\n",
    "plt.imshow(fullOriginal)\n",
    "plt.savefig(\"out/original\")\n",
    "windSpeed.close()"
   ]
  }
 ],
 "metadata": {
  "kernelspec": {
   "display_name": "Python 3",
   "language": "python",
   "name": "python3"
  },
  "language_info": {
   "codemirror_mode": {
    "name": "ipython",
    "version": 3
   },
   "file_extension": ".py",
   "mimetype": "text/x-python",
   "name": "python",
   "nbconvert_exporter": "python",
   "pygments_lexer": "ipython3",
   "version": "3.7.6"
  }
 },
 "nbformat": 4,
 "nbformat_minor": 4
}
